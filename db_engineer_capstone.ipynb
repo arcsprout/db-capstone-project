{
 "cells": [
  {
   "cell_type": "code",
   "execution_count": 2,
   "id": "465d64e2-a5a8-4324-b6a5-07071ea03811",
   "metadata": {},
   "outputs": [
    {
     "name": "stdout",
     "output_type": "stream",
     "text": [
      "Requirement already satisfied: mysql-connector-python in c:\\users\\cjlon\\appdata\\local\\programs\\python\\python312\\lib\\site-packages (9.0.0)\n",
      "Note: you may need to restart the kernel to use updated packages.\n"
     ]
    }
   ],
   "source": [
    "pip install mysql-connector-python"
   ]
  },
  {
   "cell_type": "code",
   "execution_count": 19,
   "id": "ba512f1e-8269-4426-bec3-a5d3e4a5f392",
   "metadata": {},
   "outputs": [],
   "source": [
    "import mysql.connector as connector"
   ]
  },
  {
   "cell_type": "code",
   "execution_count": 20,
   "id": "82df83ef-ceac-4204-af28-a61a1a606ec0",
   "metadata": {},
   "outputs": [],
   "source": [
    "connection = connector.connect(user = \"coursera\", password = \"Pa55word\", db = \"LittleLemonDB\") "
   ]
  },
  {
   "cell_type": "code",
   "execution_count": 21,
   "id": "2050d7fc-0ac0-4b8b-9341-d1990497ad08",
   "metadata": {},
   "outputs": [],
   "source": [
    "cursor = connection.cursor()"
   ]
  },
  {
   "cell_type": "code",
   "execution_count": 25,
   "id": "d5003ef3-462b-4f17-9e1b-0e019c1131fa",
   "metadata": {},
   "outputs": [],
   "source": [
    "task3=\"\"\"\n",
    "SELECT \n",
    "cust.Names, \n",
    "cust.Contacts, \n",
    "orders.TotalCost\n",
    "FROM customerdetails cust\n",
    "INNER JOIN orders ON cust.customerID = orders.customerID\n",
    "WHERE orders.TotalCost > 60;\"\"\""
   ]
  },
  {
   "cell_type": "code",
   "execution_count": 26,
   "id": "2174eecc-5ec6-4ff7-adac-6937fe9e9713",
   "metadata": {},
   "outputs": [],
   "source": [
    "cursor.execute(task3)"
   ]
  },
  {
   "cell_type": "code",
   "execution_count": 27,
   "id": "03266439-fe29-4efd-b148-4aad05732197",
   "metadata": {},
   "outputs": [
    {
     "name": "stdout",
     "output_type": "stream",
     "text": [
      "('Names', 'Contacts', 'TotalCost')\n",
      "[('Charlie', 'charlie@example.com', 499), ('Frank', 'frank@example.com', 295), ('Bob', 'bob@example.com', 599), ('Emily', 'emily@example.com', 199), ('John Doe', 'john.doe@example.com', 795), ('Grace', 'grace@example.com', 295), ('Jane Doe', 'jane.doe@example.com', 499), ('David', 'david@example.com', 599), ('Alice', 'alice@example.com', 199), ('Hannah', 'hannah@example.com', 795)]\n"
     ]
    }
   ],
   "source": [
    "results =cursor.fetchall()\n",
    "print(cursor.column_names)\n",
    "print(results)"
   ]
  },
  {
   "cell_type": "code",
   "execution_count": null,
   "id": "2e5769be-cc8d-4e93-a483-3b026677ea85",
   "metadata": {},
   "outputs": [],
   "source": []
  }
 ],
 "metadata": {
  "kernelspec": {
   "display_name": "Python 3 (ipykernel)",
   "language": "python",
   "name": "python3"
  },
  "language_info": {
   "codemirror_mode": {
    "name": "ipython",
    "version": 3
   },
   "file_extension": ".py",
   "mimetype": "text/x-python",
   "name": "python",
   "nbconvert_exporter": "python",
   "pygments_lexer": "ipython3",
   "version": "3.12.5"
  }
 },
 "nbformat": 4,
 "nbformat_minor": 5
}
